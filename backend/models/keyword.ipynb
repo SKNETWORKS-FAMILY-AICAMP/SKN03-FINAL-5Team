{
 "cells": [
  {
   "cell_type": "code",
   "execution_count": 1,
   "metadata": {},
   "outputs": [],
   "source": [
    "import pandas as pd"
   ]
  },
  {
   "cell_type": "markdown",
   "metadata": {},
   "source": [
    "# Load openai"
   ]
  },
  {
   "cell_type": "code",
   "execution_count": 72,
   "metadata": {},
   "outputs": [],
   "source": [
    "import boto3 \n",
    "ssm = boto3.client('ssm', region_name='ap-northeast-2')\n",
    "def get_parameter(name, with_decryption=True):\n",
    "    \"\"\"AWS Parameter Store에서 값을 가져오는 함수\"\"\"\n",
    "    return ssm.get_parameter(Name=name, WithDecryption=with_decryption)['Parameter']['Value']\n",
    "\n",
    "SECRET_KEY = get_parameter('/TEST/CICD/STREAMLIT/OPENAI_API_KEY')"
   ]
  },
  {
   "cell_type": "markdown",
   "metadata": {},
   "source": [
    "# PDF 업로드"
   ]
  },
  {
   "cell_type": "code",
   "execution_count": 12,
   "metadata": {},
   "outputs": [],
   "source": [
    "# !pip install -qU pypdf langchain-community sentence-transformers"
   ]
  },
  {
   "cell_type": "code",
   "execution_count": 2,
   "metadata": {},
   "outputs": [],
   "source": [
    "FILE_PATH = \"../data/frontend_resume.pdf\"\n",
    "def show_metadata(docs):\n",
    "    if docs:\n",
    "        print(\"[metadata]\")\n",
    "        print(list(docs[0].metadata.keys()))\n",
    "        print(\"\\n[examples]\")\n",
    "        max_key_length = max(len(k) for k in docs[0].metadata.keys())\n",
    "        for k, v in docs[0].metadata.items():\n",
    "            print(f\"{k:<{max_key_length}} : {v}\")\n"
   ]
  },
  {
   "cell_type": "code",
   "execution_count": 11,
   "metadata": {},
   "outputs": [
    {
     "name": "stdout",
     "output_type": "stream",
     "text": [
      "프 론 트 엔 드  개 발 자  이 력 서\n",
      "1\n",
      "프론트엔드  개발자  이력서\n",
      "이름  및  연락처\n",
      "이름 : 홍길동\n",
      "이메일 : hong.gildong@example.com\n",
      "전화번호 : +82 10-1234-5678\n",
      "GitHub: https://github.com/honggildong\n",
      "포트폴리오 : https://honggildong.dev\n",
      "자기소개\n",
      "사용자  친화적인  웹  인터페이스  개발에  열정을  가진  신입  프론트엔드  개발자입니다 .\n",
      "모던  자바스크립트  프레임워크를  활용하여  가치  있는  프로젝트에  기여하고  싶습니다 .\n",
      "기술  스택\n",
      "언어: HTML, CSS, JavaScript, TypeScript\n",
      "프레임워크 / 라이브러리: React, Vue.js, Next.js\n",
      "도구: Git, Webpack, Figma\n",
      "기타: 반응형  디자인 , RESTful API\n",
      "프로젝트  경험\n",
      "1. 포트폴리오  웹사이트\n",
      "기간: 2023 년  3 월  - 2023 년  4 월\n",
      "기술  스택: React, styled-components, GitHub Pages\n",
      "설명: 개인  프로젝트로 , React 와  styled-components 를  사용하여  포트폴리오  웹사이\n",
      "트를  제작\n",
      "주요  기여:\n",
      "프 론 트 엔 드  개 발 자  이 력 서\n",
      "2\n",
      "반응형  디자인을  적용하여  다양한  디바이스에서  최적화된  사용자  경험  제공\n",
      "애니메이션  효과  (e.g., 페이지  전환 , 컴포넌트  로딩  애니메이션 ) 구현\n",
      "GitHub Pages 를  활용한  배포  및  CI/CD 를  설정하여  빠른  업데이트  가능\n",
      "성과: 포트폴리오를  통해  면접  요청  2 건  수락\n",
      "2. 이커머스  웹  애플리케이션\n",
      "기간: 2023 년  1 월  - 2023 년  3 월\n",
      "기술  스택: Vue.js, Vuex, Firebase, Stripe API\n",
      "설명: 팀  프로젝트로  이커머스  웹  애플리케이션  개발\n",
      "주요  기여:\n",
      "Vuex 를  활용한  상태  관리  구현  및  효율적인  데이터  흐름  설계\n",
      "Stripe API 를  사용해  결제  기능  통합  및  테스트  환경  구축\n",
      "제품  카테고리별  필터링  및  검색  기능  개발\n",
      "Firebase Authentication 을  활용한  사용자  인증  및  권한  관리  추가\n",
      "성과: 프로젝트  완료  후  80% 이상의  코드  리뷰  반영\n",
      "3. 블로그  플랫폼  개발\n",
      "기간: 2022 년  10 월  - 2022 년  12 월\n",
      "기술  스택: Next.js, Markdown, Tailwind CSS, Vercel\n",
      "설명: Markdown 파일  기반의  정적  블로그  플랫폼  개발\n",
      "주요  기여:\n",
      "Next.js 의  정적  사이트  생성 (SSG) 기능을  활용하여  빠르고  SEO 친화적인  페이지 \n",
      "구현\n",
      "Tailwind CSS 를  사용하여  간결한  UI/UX 디자인  구축\n",
      "다크  모드  및  커스텀  테마  옵션  추가\n",
      "포스트  태그  관리  기능  및  태그  기반  검색  기능  구현\n",
      "성과: 개인  블로그  운영으로  월간  방문자  500 명  기록\n",
      "4. 실시간  채팅  애플리케이션\n",
      "프 론 트 엔 드  개 발 자  이 력 서\n",
      "3\n",
      "기간: 2022 년  6 월  - 2022 년  8 월\n",
      "기술  스택: React, Firebase, Firestore\n",
      "설명: 실시간  채팅  기능을  제공하는  SPASingle Page Application) 개발\n",
      "주요  기여:\n",
      "Firestore 를  활용한  실시간  메시지  데이터베이스  구축\n",
      "React Context API 를  사용한  글로벌  상태  관리  구현\n",
      "사용자  인증 ( 이메일  및  Google 로그인 ) 및  채팅방  멤버  권한  관리\n",
      "모바일  및  데스크톱  환경  모두  지원하는  반응형  UI 설계\n",
      "성과: 프로젝트를  통해  실시간  데이터  처리와  Firebase 활용  경험을  강화\n",
      "학력\n",
      "컴퓨터공학  학사XYZ 대학교 , 졸업 : 2023 년  8 월\n",
      "\n"
     ]
    }
   ],
   "source": [
    "from langchain_community.document_loaders import PyPDFLoader\n",
    "\n",
    "# 파일 경로 설정\n",
    "loader = PyPDFLoader(FILE_PATH)\n",
    "\n",
    "# PDF 로더 초기화\n",
    "docs = loader.load()\n",
    "\n",
    "# 문서의 전체 내용 출력\n",
    "resume_text = \"\"\n",
    "for doc in docs:\n",
    "    resume_text += doc.page_content + \"\\n\"  # 각 페이지 내용을 결합\n",
    "\n",
    "# 전체 내용 출력\n",
    "print(resume_text)"
   ]
  },
  {
   "cell_type": "code",
   "execution_count": 15,
   "metadata": {},
   "outputs": [
    {
     "name": "stdout",
     "output_type": "stream",
     "text": [
      "프 론 트 엔 드  개 발 자  이 력 서\n",
      "1\n",
      "프론트엔드  개발자  이력서\n",
      "이름  및  연락처\n",
      "이름 : 홍길동\n",
      "이메일 : hong.gildong@example.com\n",
      "전화번호 : +82 10-1234-5678\n",
      "GitHub: https://github.com/honggildong\n",
      "포트폴리오 : https://honggildong.dev\n",
      "자기소개\n",
      "사용자  친화적인  웹  인터페이스  개발에  열정을  가진  신입  프론트엔드  개발자입니다 .\n",
      "모던  자바스크립트  프레임워크를  활용하여  가치  있는  프로젝트에  기여하고  싶습니다 .\n",
      "기술  스택\n",
      "언어: HTML, CSS, JavaScript, TypeScript\n",
      "프레임워크 / 라이브러리: React, Vue.js, Next.js\n",
      "도구: Git, Webpack, Figma\n",
      "기타: 반응형  디자인 , RESTful API\n",
      "프로젝트  경험\n",
      "1. 포트폴리오  웹사이트\n",
      "기간: 2023 년  3 월  - 2023 년  4 월\n",
      "기술  스택: React, styled-components, GitHub Pages\n",
      "설명: 개인  프로젝트로 , React 와  styled-components 를  사용하여  포트폴리오  웹사이\n",
      "트를  제작\n",
      "주요  기여:\n",
      "프 론 트 엔 드  개 발 자  이 력 서\n",
      "2\n",
      "반응형  디자인을  적용하여  다양한  디바이스에서  최적화된  사용자  경험  제공\n",
      "애니메이션  효과  (e.g., 페이지  전환 , 컴포넌트  로딩  애니메이션 ) 구현\n",
      "GitHub Pages 를  활용한  배포  및  CI/CD 를  설정하여  빠른  업데이트  가능\n",
      "성과: 포트폴리오를  통해  면접  요청  2 건  수락\n",
      "2. 이커머스  웹  애플리케이션\n",
      "기간: 2023 년  1 월  - 2023 년  3 월\n",
      "기술  스택: Vue.js, Vuex, Firebase, Stripe API\n",
      "설명: 팀  프로젝트로  이커머스  웹  애플리케이션  개발\n",
      "주요  기여:\n",
      "Vuex 를  활용한  상태  관리  구현  및  효율적인  데이터  흐름  설계\n",
      "Stripe API 를  사용해  결제  기능  통합  및  테스트  환경  구축\n",
      "제품  카테고리별  필터링  및  검색  기능  개발\n",
      "Firebase Authentication 을  활용한  사용자  인증  및  권한  관리  추가\n",
      "성과: 프로젝트  완료  후  80% 이상의  코드  리뷰  반영\n",
      "3. 블로그  플랫폼  개발\n",
      "기간: 2022 년  10 월  - 2022 년  12 월\n",
      "기술  스택: Next.js, Markdown, Tailwind CSS, Vercel\n",
      "설명: Markdown 파일  기반의  정적  블로그  플랫폼  개발\n",
      "주요  기여:\n",
      "Next.js 의  정적  사이트  생성 (SSG) 기능을  활용하여  빠르고  SEO 친화적인  페이지\n",
      "구현\n",
      "Tailwind CSS 를  사용하여  간결한  UI/UX 디자인  구축\n",
      "다크  모드  및  커스텀  테마  옵션  추가\n",
      "포스트  태그  관리  기능  및  태그  기반  검색  기능  구현\n",
      "성과: 개인  블로그  운영으로  월간  방문자  500 명  기록\n",
      "4. 실시간  채팅  애플리케이션\n",
      "프 론 트 엔 드  개 발 자  이 력 서\n",
      "3\n",
      "기간: 2022 년  6 월  - 2022 년  8 월\n",
      "기술  스택: React, Firebase, Firestore\n",
      "설명: 실시간  채팅  기능을  제공하는  SPASingle Page Application) 개발\n",
      "주요  기여:\n",
      "Firestore 를  활용한  실시간  메시지  데이터베이스  구축\n",
      "React Context API 를  사용한  글로벌  상태  관리  구현\n",
      "사용자  인증 ( 이메일  및  Google 로그인 ) 및  채팅방  멤버  권한  관리\n",
      "모바일  및  데스크톱  환경  모두  지원하는  반응형  UI 설계\n",
      "성과: 프로젝트를  통해  실시간  데이터  처리와  Firebase 활용  경험을  강화\n",
      "학력\n",
      "컴퓨터공학  학사XYZ 대학교 , 졸업 : 2023 년  8 월\n"
     ]
    }
   ],
   "source": [
    "def preprocess_text(text):\n",
    "    lines = text.split('\\n')\n",
    "    processed_lines = [line.strip() for line in lines if line.strip()]\n",
    "    return \"\\n\".join(processed_lines)\n",
    "\n",
    "cleaned_text = preprocess_text(resume_text)\n",
    "print(cleaned_text)"
   ]
  },
  {
   "cell_type": "code",
   "execution_count": 16,
   "metadata": {},
   "outputs": [
    {
     "data": {
      "text/plain": [
       "str"
      ]
     },
     "execution_count": 16,
     "metadata": {},
     "output_type": "execute_result"
    }
   ],
   "source": [
    "type(cleaned_text)"
   ]
  },
  {
   "cell_type": "code",
   "execution_count": 74,
   "metadata": {},
   "outputs": [
    {
     "name": "stdout",
     "output_type": "stream",
     "text": [
      "프로젝트 경험 섹션:\n",
      " 프로젝트 경험\n",
      "포트폴리오 웹사이트\n",
      "1.\n",
      "기간: 2023년 3월 - 2023년 4월\n",
      "기술 스택: React, styled-components, GitHub Pages\n",
      "설명: 개인 프로젝트로, React와 styled-components를 사용하여 포트폴리오 웹사이\n",
      "트를 제작\n",
      "주요 기여:\n",
      "프론트엔드 개발자 이력서 1반응형 디자인을 적용하여 다양한 디바이스에서 최적화된 사용자 경험 제공\n",
      "애니메이션 효과 (e.g., 페이지 전환, 컴포넌트 로딩 애니메이션) 구현\n",
      "GitHub Pages를 활용한 배포 및 CI/CD를 설정하여 빠른 업데이트 가능\n",
      "성과: 포트폴리오를 통해 면접 요청 2건 수락\n",
      "이커머스 웹 애플리케이션\n",
      "2.\n",
      "기간: 2023년 1월 - 2023년 3월\n",
      "기술 스택: Vue.js, Vuex, Firebase, Stripe API\n",
      "설명: 팀 프로젝트로 이커머스 웹 애플리케이션 개발\n",
      "주요 기여:\n",
      "Vuex를 활용한 상태 관리 구현 및 효율적인 데이터 흐름 설계\n",
      "Stripe API를 사용해 결제 기능 통합 및 테스트 환경 구축\n",
      "제품 카테고리별 필터링 및 검색 기능 개발\n",
      "Firebase Authentication을 활용한 사용자 인증 및 권한 관리 추가\n",
      "성과: 프로젝트 완료 후 80% 이상의 코드 리뷰 반영\n",
      "블로그 플랫폼 개발\n",
      "3.\n",
      "기간: 2022년 10월 - 2022년 12월\n",
      "기술 스택: Next.js, Markdown, Tailwind CSS, Vercel\n",
      "설명: Markdown 파일 기반의 정적 블로그 플랫폼 개발\n",
      "주요 기여:\n",
      "Next.js의 정적 사이트 생성(SSG) 기능을 활용하여 빠르고 SEO 친화적인 페이지\n",
      "구현\n",
      "Tailwind CSS를 사용하여 간결한 UI/UX 디자인 구축\n",
      "다크 모드 및 커스텀 테마 옵션 추가\n",
      "포스트 태그 관리 기능 및 태그 기반 검색 기능 구현\n",
      "성과: 개인 블로그 운영으로 월간 방문자 500명 기록\n",
      "실시간 채팅 애플리케이션\n",
      "4.\n",
      "프론트엔드 개발자 이력서 2기간: 2022년 6월 - 2022년 8월\n",
      "기술 스택: React, Firebase, Firestore\n",
      "설명: 실시간 채팅 기능을 제공하는 SPASingle Page Application) 개발\n",
      "주요 기여:\n",
      "Firestore를 활용한 실시간 메시지 데이터베이스 구축\n",
      "React Context API를 사용한 글로벌 상태 관리 구현\n",
      "사용자 인증(이메일 및 Google 로그인) 및 채팅방 멤버 권한 관리\n",
      "모바일 및 데스크톱 환경 모두 지원하는 반응형 UI 설계\n",
      "성과: 프로젝트를 통해 실시간 데이터 처리와 Firebase 활용 경험을 강화\n"
     ]
    }
   ],
   "source": [
    "import pdfplumber\n",
    "\n",
    "def extract_project_section(pdf_path):\n",
    "    # PDF 텍스트 추출\n",
    "    with pdfplumber.open(pdf_path) as pdf:\n",
    "        full_text = ''\n",
    "        for page in pdf.pages:\n",
    "            full_text += page.extract_text()\n",
    "    \n",
    "    # \"프로젝트 경험\" 섹션 추출\n",
    "    start_keyword = \"프로젝트 경험\"\n",
    "    end_keywords = [\"학력\", \"자기소개\"]  # 다음 섹션의 시작 키워드\n",
    "    project_text = \"\"\n",
    "\n",
    "    # \"프로젝트 경험\" 시작 위치 찾기\n",
    "    if start_keyword in full_text:\n",
    "        start_index = full_text.find(start_keyword)\n",
    "        project_text = full_text[start_index:]\n",
    "\n",
    "        # \"프로젝트 경험\" 이후 섹션 제거\n",
    "        for end_keyword in end_keywords:\n",
    "            if end_keyword in project_text:\n",
    "                end_index = project_text.find(end_keyword)\n",
    "                project_text = project_text[:end_index]\n",
    "                break\n",
    "\n",
    "    return project_text.strip()\n",
    "\n",
    "# 사용 예시\n",
    "project_section = extract_project_section(FILE_PATH)\n",
    "print(\"프로젝트 경험 섹션:\\n\", project_section)"
   ]
  },
  {
   "cell_type": "code",
   "execution_count": 69,
   "metadata": {},
   "outputs": [
    {
     "name": "stdout",
     "output_type": "stream",
     "text": [
      "Chunk 1:\n",
      "프로젝트 경험\n",
      "포트폴리오 웹사이트\n",
      "1.\n",
      "기간: 2023년 3월 - 2023년 4월\n",
      "기술 스택: React, styled-components, GitHub Pages\n",
      "설명: 개인 프로젝트로, React와 styled-components를 사용하여 포트폴리오 웹사이\n",
      "트를 제작\n",
      "주요 기여:\n",
      "프론트엔드 개발자 이력서 1반응형 디자인을 적용하여 다양한 디바이스에서 최적화된 사용자 경험 제공\n",
      "애니메이션 효과 (e.g., 페이지 전환, 컴포넌트 로딩 애니메이션) 구현\n",
      "GitHub Pages를 활용한 배포 및 CI/CD를 설정하여 빠른 업데이트 가능\n",
      "성과: 포트폴리오를 통해 면접 요청 2건 수락\n",
      "이커머스 웹 애플리케이션\n",
      "2.\n",
      "기간: 2023년 1월 - 2023년 3월\n",
      "기술 스택: Vue.js, Vuex, Firebase, Stripe API\n",
      "설명: 팀 프로젝트로 이커머스 웹 애플리케이션 개발\n",
      "주요 기여:\n",
      "Vuex를 활용한 상태 관리 구현 및 효율적인 데이터 흐름 설계\n",
      "Stripe API를 사용해 결제 기능 통합 및 테스트 환경 구축\n",
      "제품 카테고리별 필터링 및 검색 기능 개발\n",
      "Firebase Authentication을 활용한 사용자 인증 및 권한 관리 추가\n",
      "성과: 프로젝트 완료 후 80% 이상의 코드 리뷰 반영\n",
      "블로그 플랫폼 개발\n",
      "3.\n",
      "기간: 2022년 10월 - 2022년 12월\n",
      "기술 스택: Next.js, Markdown, Tailwind CSS, Vercel\n",
      "설명: Markdown 파일 기반의 정적 블로그 플랫폼 개발\n",
      "주요 기여:\n",
      "Next.js의 정적 사이트 생성(SSG) 기능을 활용하여 빠르고 SEO 친화적인 페이지\n",
      "구현\n",
      "Tailwind CSS를 사용하여 간결한 UI/UX 디자인 구축\n",
      "다크 모드 및 커스텀 테마 옵션 추가\n",
      "포스트 태그 관리 기능 및 태그 기반 검색 기능 구현\n",
      "성과: 개인 블로그 운영으로 월간 방문자 500명 기록\n",
      "실시간 채팅 애플리케이션\n",
      "4.\n",
      "프론트엔드 개발자 이력서 2기간: 2022년 6월 - 2022년 8월\n",
      "기술 스택: React, Firebase\n",
      "\n",
      "Chunk 2:\n",
      ", Firestore\n",
      "설명: 실시간 채팅 기능을 제공하는 SPASingle Page Application) 개발\n",
      "주요 기여:\n",
      "Firestore를 활용한 실시간 메시지 데이터베이스 구축\n",
      "React Context API를 사용한 글로벌 상태 관리 구현\n",
      "사용자 인증(이메일 및 Google 로그인) 및 채팅방 멤버 권한 관리\n",
      "모바일 및 데스크톱 환경 모두 지원하는 반응형 UI 설계\n",
      "성과: 프로젝트를 통해 실시간 데이터 처리와 Firebase 활용 경험을 강화\n",
      "\n"
     ]
    }
   ],
   "source": [
    "import pdfplumber\n",
    "\n",
    "def extract_project_section(pdf_path):\n",
    "    # PDF 텍스트 추출\n",
    "    with pdfplumber.open(pdf_path) as pdf:\n",
    "        full_text = ''\n",
    "        for page in pdf.pages:\n",
    "            full_text += page.extract_text()\n",
    "    \n",
    "    # \"프로젝트 경험\" 섹션 추출\n",
    "    start_keyword = \"프로젝트 경험\"\n",
    "    end_keywords = [\"학력\", \"자기소개\"]  # 다음 섹션의 시작 키워드\n",
    "    project_text = \"\"\n",
    "\n",
    "    # \"프로젝트 경험\" 시작 위치 찾기\n",
    "    if start_keyword in full_text:\n",
    "        start_index = full_text.find(start_keyword)\n",
    "        project_text = full_text[start_index:]\n",
    "\n",
    "        # \"프로젝트 경험\" 이후 섹션 제거\n",
    "        for end_keyword in end_keywords:\n",
    "            if end_keyword in project_text:\n",
    "                end_index = project_text.find(end_keyword)\n",
    "                project_text = project_text[:end_index]\n",
    "                break\n",
    "\n",
    "    return project_text.strip()\n",
    "\n",
    "# 사용 예시\n",
    "project_section = extract_project_section(FILE_PATH)\n",
    "\n",
    "# 1000자 단위로 분할\n",
    "chunk_size = 1000\n",
    "project_chunks = [project_section[i:i + chunk_size] for i in range(0, len(project_section), chunk_size)]\n",
    "\n",
    "# 분할된 내용 출력\n",
    "for idx, chunk in enumerate(project_chunks):\n",
    "    print(f\"Chunk {idx + 1}:\\n{chunk}\\n\")"
   ]
  },
  {
   "cell_type": "code",
   "execution_count": 70,
   "metadata": {},
   "outputs": [],
   "source": [
    "# !pip install transformers torch"
   ]
  },
  {
   "cell_type": "code",
   "execution_count": 71,
   "metadata": {},
   "outputs": [
    {
     "name": "stdout",
     "output_type": "stream",
     "text": [
      "Vue.js, Vue, Firebase, GitHub, Stripe API, React, Stripe, AuthenticationFirestore, React, React Context API, Google, SPA, Firebase\n"
     ]
    }
   ],
   "source": [
    "from transformers import AutoTokenizer, AutoModelForSeq2SeqLM\n",
    "\n",
    "# 토크나이저와 모델 로드\n",
    "tokenizer = AutoTokenizer.from_pretrained(\"ilsilfverskiold/tech-keywords-extractor\")\n",
    "model = AutoModelForSeq2SeqLM.from_pretrained(\"ilsilfverskiold/tech-keywords-extractor\")\n",
    "\n",
    "keywords = \"\"\n",
    "# 입력 텍스트를 토큰화하고 모델에 입력\n",
    "for value in project_chunks:\n",
    "    inputs = tokenizer.encode(\"extract tech keywords: \" + value, return_tensors=\"pt\", max_length=1000, truncation=True)\n",
    "    outputs = model.generate(inputs, max_length=150, num_beams=2, early_stopping=True)\n",
    "    keywords += tokenizer.decode(outputs[0], skip_special_tokens=True)\n",
    "\n",
    "# 결과 디코딩\n",
    "print(keywords)"
   ]
  },
  {
   "cell_type": "code",
   "execution_count": 64,
   "metadata": {},
   "outputs": [
    {
     "data": {
      "text/plain": [
       "str"
      ]
     },
     "execution_count": 64,
     "metadata": {},
     "output_type": "execute_result"
    }
   ],
   "source": [
    "type(keywords)"
   ]
  },
  {
   "cell_type": "code",
   "execution_count": null,
   "metadata": {},
   "outputs": [],
   "source": [
    "from transformers import AutoTokenizer, AutoModelForSeq2SeqLM\n",
    "\n",
    "# 토크나이저와 모델 로드\n",
    "tokenizer = AutoTokenizer.from_pretrained(\"ilsilfverskiold/tech-keywords-extractor\")\n",
    "model = AutoModelForSeq2SeqLM.from_pretrained(\"ilsilfverskiold/tech-keywords-extractor\")\n",
    "\n",
    "# 입력 텍스트를 토큰화하고 모델에 입력\n",
    "inputs = tokenizer.encode(\"extract tech keywords: \" + project_section, return_tensors=\"pt\", max_length=1000, truncation=True)\n",
    "outputs = model.generate(inputs, max_length=150, num_beams=2, early_stopping=True)\n",
    "\n",
    "# 결과 디코딩\n",
    "keywords = tokenizer.decode(outputs[0], skip_special_tokens=True)\n",
    "print(keywords)"
   ]
  }
 ],
 "metadata": {
  "kernelspec": {
   "display_name": ".venv",
   "language": "python",
   "name": "python3"
  },
  "language_info": {
   "codemirror_mode": {
    "name": "ipython",
    "version": 3
   },
   "file_extension": ".py",
   "mimetype": "text/x-python",
   "name": "python",
   "nbconvert_exporter": "python",
   "pygments_lexer": "ipython3",
   "version": "3.12.4"
  }
 },
 "nbformat": 4,
 "nbformat_minor": 2
}
